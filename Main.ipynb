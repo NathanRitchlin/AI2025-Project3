{
 "cells": [
  {
   "metadata": {
    "ExecuteTime": {
     "end_time": "2025-10-27T17:07:07.812910Z",
     "start_time": "2025-10-27T17:07:07.798088Z"
    }
   },
   "cell_type": "code",
   "source": [
    "import copy\n",
    "\n",
    "import numpy as np\n",
    "from pgmpy.readwrite import BIFReader\n",
    "import random\n",
    "import numpy"
   ],
   "id": "d295d23e0c305760",
   "outputs": [],
   "execution_count": 62
  },
  {
   "metadata": {
    "ExecuteTime": {
     "end_time": "2025-10-27T17:07:07.859050Z",
     "start_time": "2025-10-27T17:07:07.851908Z"
    }
   },
   "cell_type": "code",
   "source": [
    "#Parameters\n",
    "GROUP_ID = '04'\n",
    "ALGORITHM = 'gibbs'\n",
    "NETWORK_NAME = 'networks/insurance.bif'\n",
    "REPORT = '[MedCost,ILiCost,PropCost]'\n",
    "EVIDENCE_LEVEL = 'None'\n",
    "EVIDENCE = 'Problem5 =Yes'"
   ],
   "id": "c8e189043230b69b",
   "outputs": [],
   "execution_count": 63
  },
  {
   "metadata": {
    "ExecuteTime": {
     "end_time": "2025-10-27T17:07:07.880699Z",
     "start_time": "2025-10-27T17:07:07.873746Z"
    }
   },
   "cell_type": "code",
   "source": [
    "def normalizeDistribution(distribution):\n",
    "    sum = 0\n",
    "    ogDist = copy.deepcopy(distribution)\n",
    "    for value in distribution:\n",
    "        sum += value\n",
    "    if sum != 0:\n",
    "        for i in range(len(distribution)):\n",
    "            distribution[i] = distribution[i] / sum\n",
    "    #edge case where all probabilities are infitesmally small\n",
    "    else:\n",
    "        print('debug')\n",
    "        for i in range(len(distribution)):\n",
    "            distribution[i] = 1 / len(distribution)\n",
    "    return distribution"
   ],
   "id": "d88e769e07ccd65d",
   "outputs": [],
   "execution_count": 64
  },
  {
   "metadata": {
    "ExecuteTime": {
     "end_time": "2025-10-27T17:07:07.906743Z",
     "start_time": "2025-10-27T17:07:07.893046Z"
    }
   },
   "cell_type": "code",
   "source": [
    "def gibbsSampling(Network, reportedVars, evidenceVars, numSamples, burnInLength):\n",
    "    possVals = Network.states\n",
    "    randomVals = {}\n",
    "\n",
    "    #Initializing random state values\n",
    "    for key in possVals.keys():\n",
    "        if key in evidenceVars.keys():\n",
    "            randomVals[key] = evidenceVars[key]\n",
    "        else:\n",
    "            randomVals[key] = random.choice(possVals[key])\n",
    "\n",
    "    #initializing counting tables\n",
    "    countingTables = []\n",
    "    for var in reportedVars:\n",
    "        countingTable = []\n",
    "        for i in range(len(possVals[var])):\n",
    "            #case where one of the reported vars is given as evidence\n",
    "            if(var in evidenceVariables):\n",
    "                countingTable.append('x')\n",
    "            else:\n",
    "                countingTable.append(0)\n",
    "        countingTables.append(countingTable)\n",
    "\n",
    "    for i in range(numSamples):\n",
    "        #Need to pick a random (non evidence) node use its markov blanket\n",
    "        randVar = random.choice(list(Network.nodes))\n",
    "        while(randVar in evidenceVars.keys()):\n",
    "            randVar = random.choice(list(Network.nodes))\n",
    "        mb = getParentsAndChildren(Network, randVar)\n",
    "        #Calculate probability of variable given its parents\n",
    "        cpds = Network.get_cpds(randVar)\n",
    "        valueDistribution = []\n",
    "        for value in cpds.state_names[randVar]:\n",
    "            #Calculates P(x_i|parents(X_i))\n",
    "            parents = mb[0]\n",
    "            valueArrIndex = cpds.name_to_no[randVar][value]\n",
    "            valueArr = cpds.values[valueArrIndex]\n",
    "            for parent in parents:\n",
    "                parentVal = randomVals[parent]\n",
    "                parentArrIndex = cpds.name_to_no[parent][parentVal]\n",
    "                valueArr = valueArr[parentArrIndex]\n",
    "            varVal = valueArr\n",
    "            childrenProb = 1\n",
    "            #Calculates/sums all child probabilities P(y_j | parents(y_j))\n",
    "            for children in mb[1]:\n",
    "                childCpds = Network.get_cpds(children)\n",
    "                parents = Network.get_parents(children)\n",
    "                childrenArrIndex = childCpds.name_to_no[children][randomVals[children]]\n",
    "                childrenArr = childCpds.values[childrenArrIndex]\n",
    "                for parent in parents:\n",
    "                    if(parent != randVar):\n",
    "                        parentVal = randomVals[parent]\n",
    "                    else:\n",
    "                        parentVal = value\n",
    "                    parentArrIndex = childCpds.name_to_no[parent][parentVal]\n",
    "                    childrenArr = childrenArr[parentArrIndex]\n",
    "                #Fix for 0 probabilities causing the sampling to get stuck\n",
    "                if(childrenArr == 0):\n",
    "                    childrenArr = 0.05\n",
    "                childrenProb *= childrenArr\n",
    "            valueDistribution.append(varVal*childrenProb)\n",
    "        #normalized value distribution for randomly selected variable has been found\n",
    "        valueDistribution = normalizeDistribution(valueDistribution)\n",
    "        #print(\"Value distribution:\", valueDistribution)\n",
    "        possibleVals = Network.states[randVar]\n",
    "        #print(\"Possible values for variable\", randVar, possibleVals)\n",
    "        chosenVal = numpy.random.choice(possibleVals, p = valueDistribution)\n",
    "        #print(\"Chosen value:\", chosenVal)\n",
    "        #setting the variable's randomly (probability-distribution) based value\n",
    "        randomVals[randVar] = chosenVal\n",
    "        #counting value for reported variable if not in burn in period\n",
    "        if(i >= burnInLength):\n",
    "            for t in range(len(countingTables)):\n",
    "                countingIndex = possVals[reportedVars[t]].index(randomVals[reportedVars[t]])\n",
    "                #case where reported variable is also a part of evidence\n",
    "                if(countingTables[t][0] != 'x'):\n",
    "                    countingTables[t][countingIndex] += 1\n",
    "\n",
    "\n",
    "    x = 0\n",
    "    for table in countingTables:\n",
    "        if(table[0] != 'x'):\n",
    "            table = normalizeDistribution(table)\n",
    "    print(countingTables)\n",
    "    return countingTables\n",
    "\n",
    "\n",
    "def getParentsAndChildren(Network, variable):\n",
    "    mb = Network.get_markov_blanket(variable)\n",
    "    nodes = []\n",
    "    parents = Network.get_parents(variable)\n",
    "    children = []\n",
    "    for node in mb:\n",
    "        nodeParents = Network.get_parents(node)\n",
    "        if variable in nodeParents:\n",
    "            children.append(node)\n",
    "    nodes.append(parents)\n",
    "    nodes.append(children)\n",
    "    return nodes"
   ],
   "id": "6956ad6e89802371",
   "outputs": [],
   "execution_count": 65
  },
  {
   "metadata": {
    "ExecuteTime": {
     "end_time": "2025-10-27T17:07:25.952666Z",
     "start_time": "2025-10-27T17:07:07.919508Z"
    }
   },
   "cell_type": "code",
   "source": [
    "def createOutput(reportVariables, network, probabilityDistribution):\n",
    "    fileName = GROUP_ID + '_' + ALGORITHM + '_' + NETWORK_NAME.lstrip('networks/').rstrip('.bif') + '_' + EVIDENCE_LEVEL + '.csv'\n",
    "    states = network.states\n",
    "    with(open(fileName, 'w') as file):\n",
    "        counter = -1\n",
    "        for var in reportVariables:\n",
    "            file.write(var)\n",
    "            counter += 1\n",
    "            for state in states[var]:\n",
    "                file.write(\",\")\n",
    "                file.write(state)\n",
    "            file.write(\"\\n\")\n",
    "            for i in range(len(probabilityDistribution[counter])):\n",
    "                file.write(str(probabilityDistribution[counter][i]))\n",
    "                if i != len(probabilityDistribution[counter])-1:\n",
    "                    file.write(\",\")\n",
    "                else:\n",
    "                    file.write(\"\\n\")\n",
    "\n",
    "\n",
    "\n",
    "\n",
    "\n",
    "reader = BIFReader(NETWORK_NAME)\n",
    "model = reader.get_model()\n",
    "reportList = REPORT.lstrip('[').rstrip(']')\n",
    "reportVariables = reportList.split(',')\n",
    "for var in reportVariables:\n",
    "    var = var.strip()\n",
    "evidenceVariables = {}\n",
    "if(EVIDENCE_LEVEL != \"None\"):\n",
    "    splitter = EVIDENCE.split(\";\")\n",
    "    for var in splitter:\n",
    "        #Edge case for variables with '=' characters in their values\n",
    "        if'\"' in var:\n",
    "            splitter2 = var.split('\"')\n",
    "            evidenceVariables[splitter2[0][:-1].strip()] = splitter2[1]\n",
    "        else:\n",
    "            splitter2 = var.split(\"=\")\n",
    "            evidenceVariables[splitter2[0].strip()] = splitter2[1]\n",
    "\n",
    "if ALGORITHM == \"gibbs\":\n",
    "    probDist = gibbsSampling(model,reportVariables,evidenceVariables, 210000, 10000)\n",
    "elif ALGORITHM == \"ve\":\n",
    "    print()\n",
    "    #variable elim\n",
    "else:\n",
    "    print(\"Unrecognized algorithm:\", ALGORITHM)\n",
    "\n",
    "createOutput(reportVariables, model, probDist)\n",
    "\n"
   ],
   "id": "491dad2a45902739",
   "outputs": [
    {
     "name": "stdout",
     "output_type": "stream",
     "text": [
      "[[0.99608, 0.00282, 0.001085, 1.5e-05], [0.99892, 0.000515, 0.00016, 0.000405], [0.69778, 0.30097, 0.00125, 0.0]]\n"
     ]
    }
   ],
   "execution_count": 66
  }
 ],
 "metadata": {
  "kernelspec": {
   "display_name": "Python 3",
   "language": "python",
   "name": "python3"
  },
  "language_info": {
   "codemirror_mode": {
    "name": "ipython",
    "version": 2
   },
   "file_extension": ".py",
   "mimetype": "text/x-python",
   "name": "python",
   "nbconvert_exporter": "python",
   "pygments_lexer": "ipython2",
   "version": "2.7.6"
  }
 },
 "nbformat": 4,
 "nbformat_minor": 5
}
