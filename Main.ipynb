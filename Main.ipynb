{
 "cells": [
  {
   "metadata": {
    "ExecuteTime": {
     "end_time": "2025-10-26T01:38:03.791556Z",
     "start_time": "2025-10-26T01:38:03.787282Z"
    }
   },
   "cell_type": "code",
   "source": [
    "from pgmpy.readwrite import BIFReader\n",
    "import random\n",
    "import numpy"
   ],
   "id": "d295d23e0c305760",
   "outputs": [],
   "execution_count": 230
  },
  {
   "metadata": {
    "ExecuteTime": {
     "end_time": "2025-10-26T01:38:03.814512Z",
     "start_time": "2025-10-26T01:38:03.809819Z"
    }
   },
   "cell_type": "code",
   "source": [
    "#Parameters\n",
    "GROUP_ID = '04'\n",
    "ALGORITHM = 'gibbs'\n",
    "NETWORK_NAME = 'networks/child.bif'\n",
    "REPORT = 'Disease'\n",
    "EVIDENCE_LEVEL = 'None'\n",
    "EVIDENCE = 'owerBodyO2=\"<5\"; RUQO2=\"12+\"; CO2Report=\">=7.5\"; XrayReport=Asy/Patchy'"
   ],
   "id": "c8e189043230b69b",
   "outputs": [],
   "execution_count": 231
  },
  {
   "metadata": {
    "ExecuteTime": {
     "end_time": "2025-10-26T01:38:03.862760Z",
     "start_time": "2025-10-26T01:38:03.858076Z"
    }
   },
   "cell_type": "code",
   "source": [
    "def normalizeDistribution(distribution):\n",
    "    sum = 0\n",
    "    for value in distribution:\n",
    "        sum += value\n",
    "    for i in range(len(distribution)):\n",
    "        distribution[i] = distribution[i] / sum\n",
    "    return distribution"
   ],
   "id": "d88e769e07ccd65d",
   "outputs": [],
   "execution_count": 232
  },
  {
   "metadata": {
    "ExecuteTime": {
     "end_time": "2025-10-26T01:38:03.896833Z",
     "start_time": "2025-10-26T01:38:03.872078Z"
    }
   },
   "cell_type": "code",
   "source": [
    "def gibbsSampling(Network, reportedVars, evidenceVars, numSamples, burnInLength):\n",
    "    possVals = Network.states\n",
    "    randomVals = {}\n",
    "\n",
    "    #Initializing random state values\n",
    "    for key in possVals.keys():\n",
    "        if key in evidenceVars.keys():\n",
    "            randomVals[key] = evidenceVars[key]\n",
    "        else:\n",
    "            randomVals[key] = random.choice(possVals[key])\n",
    "\n",
    "    #initializing counting table\n",
    "    countingTable = []\n",
    "    for i in range(len(possVals[reportedVars[0]])):\n",
    "        countingTable.append(0)\n",
    "\n",
    "    for i in range(numSamples):\n",
    "        #Need to pick a random (non evidence) node use its markov blanket\n",
    "        randVar = random.choice(list(Network.nodes))\n",
    "        while(randVar in evidenceVars.keys()):\n",
    "            randVar = random.choice(list(Network.nodes))\n",
    "        mb = getParentsAndChildren(Network, randVar)\n",
    "        #Calculate probability of variable given its parents\n",
    "        cpds = Network.get_cpds(randVar)\n",
    "        valueDistribution = []\n",
    "        for value in cpds.state_names[randVar]:\n",
    "            #Calculates P(x_i|parents(X_i))\n",
    "            parents = mb[0]\n",
    "            valueArrIndex = cpds.name_to_no[randVar][value]\n",
    "            valueArr = cpds.values[valueArrIndex]\n",
    "            for parent in parents:\n",
    "                parentVal = randomVals[parent]\n",
    "                parentArrIndex = cpds.name_to_no[parent][parentVal]\n",
    "                valueArr = valueArr[parentArrIndex]\n",
    "            varVal = valueArr\n",
    "            childrenProb = 1\n",
    "            #Calculates/sums all child probabilities P(y_j | parents(y_j))\n",
    "            for children in mb[1]:\n",
    "                childCpds = Network.get_cpds(children)\n",
    "                parents = Network.get_parents(children)\n",
    "                childrenArrIndex = childCpds.name_to_no[children][randomVals[children]]\n",
    "                childrenArr = childCpds.values[childrenArrIndex]\n",
    "                for parent in parents:\n",
    "                    if(parent != randVar):\n",
    "                        parentVal = randomVals[parent]\n",
    "                    else:\n",
    "                        parentVal = value\n",
    "                    parentArrIndex = childCpds.name_to_no[parent][parentVal]\n",
    "                    childrenArr = childrenArr[parentArrIndex]\n",
    "                childrenProb *= childrenArr\n",
    "            valueDistribution.append(varVal*childrenProb)\n",
    "        #normalized value distribution for randomly selected variable has been found\n",
    "        valueDistribution = normalizeDistribution(valueDistribution)\n",
    "        #print(\"Value distribution:\", valueDistribution)\n",
    "        possibleVals = Network.states[randVar]\n",
    "        #print(\"Possible values for variable\", randVar, possibleVals)\n",
    "        chosenVal = numpy.random.choice(possibleVals, p = valueDistribution)\n",
    "        #print(\"Chosen value:\", chosenVal)\n",
    "        #setting the variable's randomly (probability-distribution) based value\n",
    "        randomVals[randVar] = chosenVal\n",
    "        #counting value for reported variable if not in burn in period\n",
    "        if(i >= burnInLength):\n",
    "            countingIndex = possVals[reportedVars[0]].index(randomVals[reportedVars[0]])\n",
    "            countingTable[countingIndex] += 1\n",
    "\n",
    "\n",
    "    countingTable = normalizeDistribution(countingTable)\n",
    "    print(countingTable)\n",
    "\n",
    "\n",
    "def getParentsAndChildren(Network, variable):\n",
    "    mb = Network.get_markov_blanket(variable)\n",
    "    nodes = []\n",
    "    parents = Network.get_parents(variable)\n",
    "    children = []\n",
    "    for node in mb:\n",
    "        nodeParents = Network.get_parents(node)\n",
    "        if variable in nodeParents:\n",
    "            children.append(node)\n",
    "    nodes.append(parents)\n",
    "    nodes.append(children)\n",
    "    return nodes"
   ],
   "id": "6956ad6e89802371",
   "outputs": [],
   "execution_count": 233
  },
  {
   "metadata": {
    "ExecuteTime": {
     "end_time": "2025-10-26T01:38:07.021248Z",
     "start_time": "2025-10-26T01:38:03.933667Z"
    }
   },
   "cell_type": "code",
   "source": [
    "reader = BIFReader(NETWORK_NAME)\n",
    "model = reader.get_model()\n",
    "reportVariables = REPORT.split(';')\n",
    "evidenceVariables = {}\n",
    "splitter = EVIDENCE.split(\";\")\n",
    "for var in splitter:\n",
    "    #Edge case for variables with '=' characters in their values\n",
    "    if'\"' in var:\n",
    "        splitter2 = var.split('\"')\n",
    "        evidenceVariables[splitter2[0][:-1].strip()] = splitter2[1]\n",
    "    else:\n",
    "        splitter2 = var.split(\"=\")\n",
    "        evidenceVariables[splitter2[0].strip()] = splitter2[1]\n",
    "\n",
    "if ALGORITHM == \"gibbs\":\n",
    "    gibbsSampling(model,reportVariables,evidenceVariables, 11000, 1000)\n",
    "elif ALGORITHM == \"ve\":\n",
    "    print()\n",
    "    #variable elim\n",
    "else:\n",
    "    print(\"Unrecognized algorithm:\", ALGORITHM)\n",
    "\n",
    "\n",
    "\n"
   ],
   "id": "491dad2a45902739",
   "outputs": [
    {
     "name": "stdout",
     "output_type": "stream",
     "text": [
      "[0.12, 0.0788, 0.2329, 0.1773, 0.0664, 0.3246]\n"
     ]
    }
   ],
   "execution_count": 234
  }
 ],
 "metadata": {
  "kernelspec": {
   "display_name": "Python 3",
   "language": "python",
   "name": "python3"
  },
  "language_info": {
   "codemirror_mode": {
    "name": "ipython",
    "version": 2
   },
   "file_extension": ".py",
   "mimetype": "text/x-python",
   "name": "python",
   "nbconvert_exporter": "python",
   "pygments_lexer": "ipython2",
   "version": "2.7.6"
  }
 },
 "nbformat": 4,
 "nbformat_minor": 5
}
