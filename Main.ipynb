{
 "cells": [
  {
   "metadata": {
    "ExecuteTime": {
     "end_time": "2025-10-22T21:30:12.053584Z",
     "start_time": "2025-10-22T21:30:12.045904Z"
    }
   },
   "cell_type": "code",
   "source": [
    "from pgmpy.readwrite import BIFReader\n",
    "import random"
   ],
   "id": "d295d23e0c305760",
   "outputs": [],
   "execution_count": 45
  },
  {
   "metadata": {
    "ExecuteTime": {
     "end_time": "2025-10-22T21:30:12.078544Z",
     "start_time": "2025-10-22T21:30:12.073839Z"
    }
   },
   "cell_type": "code",
   "source": [
    "#Parameters\n",
    "GROUP_ID = '04'\n",
    "ALGORITHM = 'gibbs'\n",
    "NETWORK_NAME = 'networks/child.bif'\n",
    "REPORT = 'Disease'\n",
    "EVIDENCE_LEVEL = 'None'\n",
    "EVIDENCE = 'owerBodyO2=\"<5\"; RUQO2=\">=12\"; CO2Report=\">=7.5\"; XrayReport=Asy/Patchy'"
   ],
   "id": "c8e189043230b69b",
   "outputs": [],
   "execution_count": 46
  },
  {
   "metadata": {
    "ExecuteTime": {
     "end_time": "2025-10-22T21:30:12.091382Z",
     "start_time": "2025-10-22T21:30:12.086856Z"
    }
   },
   "cell_type": "code",
   "source": [
    "def gibbsSampling(Network, reportedVars, evidenceVars):\n",
    "    possVals = Network.states\n",
    "    randomVals = {}\n",
    "\n",
    "    #Initializing random state values\n",
    "    for key in possVals.keys():\n",
    "        if key in evidenceVars.keys():\n",
    "            randomVals[key] = evidenceVars[key]\n",
    "        else:\n",
    "            randomVals[key] = random.choice(possVals[key])\n",
    "    print(randomVals)\n"
   ],
   "id": "6956ad6e89802371",
   "outputs": [],
   "execution_count": 47
  },
  {
   "metadata": {
    "ExecuteTime": {
     "end_time": "2025-10-22T21:30:13.207447Z",
     "start_time": "2025-10-22T21:30:12.100858Z"
    }
   },
   "cell_type": "code",
   "source": [
    "reader = BIFReader(NETWORK_NAME)\n",
    "model = reader.get_model()\n",
    "reportVariables = REPORT.split(';')\n",
    "evidenceVariables = {}\n",
    "splitter = EVIDENCE.split(\";\")\n",
    "for var in splitter:\n",
    "    #Edge case for variables with '=' characters in their values\n",
    "    if'\"' in var:\n",
    "        splitter2 = var.split('\"')\n",
    "        evidenceVariables[splitter2[0][:-1].strip()] = splitter2[1]\n",
    "    else:\n",
    "        splitter2 = var.split(\"=\")\n",
    "        evidenceVariables[splitter2[0].strip()] = splitter2[1]\n",
    "\n",
    "if ALGORITHM == \"gibbs\":\n",
    "    gibbsSampling(model,reportVariables,evidenceVariables)\n",
    "elif ALGORITHM == \"ve\":\n",
    "    print()\n",
    "    #variable elim\n",
    "else:\n",
    "    print(\"Unrecognized algorithm:\", ALGORITHM)\n",
    "\n"
   ],
   "id": "491dad2a45902739",
   "outputs": [
    {
     "name": "stdout",
     "output_type": "stream",
     "text": [
      "{'Disease': 'PAIVS', 'Sick': 'no', 'Age': '11-30_days', 'BirthAsphyxia': 'no', 'LungParench': 'Congested', 'CO2': 'High', 'CO2Report': '>=7.5', 'CardiacMixing': 'Transp.', 'LungFlow': 'Normal', 'ChestXray': 'Grd_Glass', 'DuctFlow': 'Rt_to_Lt', 'Grunting': 'yes', 'GruntingReport': 'yes', 'HypDistrib': 'Unequal', 'HypoxiaInO2': 'Severe', 'LVH': 'no', 'LVHreport': 'yes', 'LowerBodyO2': '<5', 'RUQO2': '>=12', 'XrayReport': 'Asy/Patchy'}\n"
     ]
    }
   ],
   "execution_count": 48
  }
 ],
 "metadata": {
  "kernelspec": {
   "display_name": "Python 3",
   "language": "python",
   "name": "python3"
  },
  "language_info": {
   "codemirror_mode": {
    "name": "ipython",
    "version": 2
   },
   "file_extension": ".py",
   "mimetype": "text/x-python",
   "name": "python",
   "nbconvert_exporter": "python",
   "pygments_lexer": "ipython2",
   "version": "2.7.6"
  }
 },
 "nbformat": 4,
 "nbformat_minor": 5
}
