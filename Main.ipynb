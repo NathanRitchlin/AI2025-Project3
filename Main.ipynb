{
 "cells": [
  {
   "metadata": {
    "ExecuteTime": {
     "end_time": "2025-10-22T17:39:38.814682Z",
     "start_time": "2025-10-22T17:39:38.808215Z"
    }
   },
   "cell_type": "code",
   "source": [
    "from pgmpy.readwrite import BIFReader\n",
    "import random"
   ],
   "id": "d295d23e0c305760",
   "outputs": [],
   "execution_count": 62
  },
  {
   "metadata": {
    "collapsed": true,
    "tags": [
     "parameters"
    ],
    "ExecuteTime": {
     "end_time": "2025-10-22T17:39:38.848823Z",
     "start_time": "2025-10-22T17:39:38.840583Z"
    }
   },
   "cell_type": "code",
   "source": [
    "#Parameters\n",
    "GROUP_ID = '04'\n",
    "ALGORITHM = 'gibbs'\n",
    "NETWORK_NAME = 'networks/child.bif'\n",
    "REPORT = 'var1;var2'\n",
    "EVIDENCE_LEVEL = 'None'\n",
    "EVIDENCE = 'var1=val1;var2=val2'"
   ],
   "id": "8befece140f1bf9d",
   "outputs": [],
   "execution_count": 63
  },
  {
   "metadata": {
    "ExecuteTime": {
     "end_time": "2025-10-22T17:39:40.338949Z",
     "start_time": "2025-10-22T17:39:38.865667Z"
    }
   },
   "cell_type": "code",
   "source": [
    "reader = BIFReader(NETWORK_NAME)\n",
    "model = reader.get_model()\n",
    "nodes = reader.get_parents()\n",
    "g = model.get_markov_blanket(\"Disease\")\n",
    "possVals = model.states\n",
    "print(possVals)\n",
    "randomVals = {}\n",
    "for key in possVals.keys():\n",
    "    randomVals[key] = random.choice(possVals[key])\n",
    "\n",
    "\n",
    "print(randomVals)\n",
    "\n",
    "\n"
   ],
   "id": "7111e8f43d6d1127",
   "outputs": [
    {
     "name": "stdout",
     "output_type": "stream",
     "text": [
      "{'Disease': ['PFC', 'TGA', 'Fallot', 'PAIVS', 'TAPVD', 'Lung'], 'Sick': ['yes', 'no'], 'Age': ['0-3_days', '4-10_days', '11-30_days'], 'BirthAsphyxia': ['yes', 'no'], 'LungParench': ['Normal', 'Congested', 'Abnormal'], 'CO2': ['Normal', 'Low', 'High'], 'CO2Report': ['<7.5', '>=7.5'], 'CardiacMixing': ['None', 'Mild', 'Complete', 'Transp.'], 'LungFlow': ['Normal', 'Low', 'High'], 'ChestXray': ['Normal', 'Oligaemic', 'Plethoric', 'Grd_Glass', 'Asy/Patch'], 'DuctFlow': ['Lt_to_Rt', 'None', 'Rt_to_Lt'], 'Grunting': ['yes', 'no'], 'GruntingReport': ['yes', 'no'], 'HypDistrib': ['Equal', 'Unequal'], 'HypoxiaInO2': ['Mild', 'Moderate', 'Severe'], 'LVH': ['yes', 'no'], 'LVHreport': ['yes', 'no'], 'LowerBodyO2': ['<5', '5-12', '12+'], 'RUQO2': ['<5', '5-12', '12+'], 'XrayReport': ['Normal', 'Oligaemic', 'Plethoric', 'Grd_Glass', 'Asy/Patchy']}\n",
      "{'Disease': 'PAIVS', 'Sick': 'no', 'Age': '0-3_days', 'BirthAsphyxia': 'no', 'LungParench': 'Normal', 'CO2': 'Normal', 'CO2Report': '>=7.5', 'CardiacMixing': 'Transp.', 'LungFlow': 'Low', 'ChestXray': 'Grd_Glass', 'DuctFlow': 'Rt_to_Lt', 'Grunting': 'yes', 'GruntingReport': 'yes', 'HypDistrib': 'Unequal', 'HypoxiaInO2': 'Severe', 'LVH': 'yes', 'LVHreport': 'yes', 'LowerBodyO2': '<5', 'RUQO2': '<5', 'XrayReport': 'Grd_Glass'}\n"
     ]
    }
   ],
   "execution_count": 64
  },
  {
   "metadata": {
    "ExecuteTime": {
     "end_time": "2025-10-22T17:39:40.383184Z",
     "start_time": "2025-10-22T17:39:40.380774Z"
    }
   },
   "cell_type": "code",
   "source": "",
   "id": "ee4448e19a31560f",
   "outputs": [],
   "execution_count": null
  }
 ],
 "metadata": {
  "kernelspec": {
   "display_name": "Python 3",
   "language": "python",
   "name": "python3"
  },
  "language_info": {
   "codemirror_mode": {
    "name": "ipython",
    "version": 2
   },
   "file_extension": ".py",
   "mimetype": "text/x-python",
   "name": "python",
   "nbconvert_exporter": "python",
   "pygments_lexer": "ipython2",
   "version": "2.7.6"
  }
 },
 "nbformat": 4,
 "nbformat_minor": 5
}
